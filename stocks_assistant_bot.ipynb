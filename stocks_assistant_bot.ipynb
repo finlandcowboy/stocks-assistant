{
 "cells": [
  {
   "cell_type": "markdown",
   "id": "127d71de",
   "metadata": {},
   "source": [
    "# Pipeline \n",
    "\n",
    "Telegram bot (bot.py) \\\n",
    "Stocks API (stock.py) \\\n",
    "DataBase (database.py) \\\n",
    "\n",
    "Maybe to add: \\\n",
    "Price prediciton (model.py)"
   ]
  },
  {
   "cell_type": "markdown",
   "id": "34038ce8",
   "metadata": {},
   "source": [
    "## Telegram bot (bot.py)"
   ]
  },
  {
   "cell_type": "markdown",
   "id": "9a92574e",
   "metadata": {},
   "source": [
    "#### Commands\n",
    "<li> /add </li>\n",
    "Almost done. Need to add sync with database\n",
    "<li> /delete </li>\n",
    "Also sync with databse \n",
    "<li> /list </li>\n",
    "Databse required\n",
    "<li> /predict </li>\n",
    "<li> /set_percent </li>"
   ]
  },
  {
   "cell_type": "code",
   "execution_count": 44,
   "id": "10c320a8",
   "metadata": {
    "scrolled": true
   },
   "outputs": [],
   "source": [
    "import telebot\n",
    "\n",
    "token = '1686246223:AAFpGIs77TFZ89QErNnq65yTqzN7ULORvNQ'\n",
    "\n",
    "bot = telebot.TeleBot(token)\n",
    "\n",
    "@bot.message_handler(commands=['start'])\n",
    "def greeting_command(message):\n",
    "    text = f'''Hello {message.from_user.username}!\n",
    "I\\'m your stocks assistant bot.\n",
    "I can help you to manage your stocks portfolio.\n",
    "\n",
    "Here\\'s something of what I can do.\n",
    "Show you realtime prices of your stocksW\n",
    "Predict the price of your stocks for a week\n",
    "Notify you when you might want to sell stocks\n",
    "\n",
    "For more help and commands /help\n",
    "\n",
    "Created by @finlandcowboy'''\n",
    "    \n",
    "    bot.send_message(message.chat.id, text)\n",
    "\n",
    "@bot.message_handler(commands=['help'])\n",
    "def help_command(message):\n",
    "    text = '''**Commands**\n",
    "/add - Add stock\n",
    "/delete - Delete Stock (if you sell it or smth)\n",
    "/list - List your stocks\n",
    "/predict - Predict your stock value for desirable amount of time\n",
    "/set_percent - Set percent for notifying you about growth\n",
    "    '''\n",
    "    bot.send_message(message.chat.id, text, parse_mode='Markdown')\n",
    "\n",
    "    \n",
    "adding_stock_args = []\n",
    "@bot.message_handler(commands=['add'])\n",
    "def command_add(message):\n",
    "    text = 'Enter a **ticker** (not a company name)'\n",
    "    msg = bot.send_message(message.chat.id, text)\n",
    "    bot.register_next_step_handler(msg, adding_ticker, parse_mode='Markdown')\n",
    "    \n",
    "def adding_ticker(message):\n",
    "    adding_stock_args.append(message.text)\n",
    "    text = 'Enter a price in **USD $$**'\n",
    "    msg = bot.send_message(message.chat.id, text)\n",
    "    bot.register_next_step_handler(msg, adding_price, parse_mode='Markdown')\n",
    "    \n",
    "def adding_price(message):\n",
    "    adding_stock_args.append(int(message.text))\n",
    "    text = 'Enter **amount** of stock you bought'\n",
    "    msg = bot.send_message(message.chat.id, text)\n",
    "    bot.register_next_step_handler(msg, adding_amount, parse_mode='Markdown')\n",
    "\n",
    "    \n",
    "def adding_amount(message):\n",
    "    adding_stock_args.append(int(message.text))\n",
    "    print(adding_stock_args)\n",
    "    text = f'Alright, added a {adding_stock_args[0]} in amount of {adding_stock_args[2]} and sum price: {round(float(adding_stock_args[2]) * float(adding_stock_args[1]),2)}'\n",
    "    bot.send_message(message.chat.id, text)\n",
    "    \n",
    "    '''\n",
    "    ADD A STOCK INFO TO DATABASE HERE\n",
    "    '''\n",
    "delete_stock_args = []    \n",
    "@bot.message_handler(commands=['delete'])\n",
    "def command_delete(message):\n",
    "    \n",
    "    '''\n",
    "    Add ticker try catch if ticker is not in list \n",
    "    \n",
    "    \n",
    "    except:\n",
    "        print list of having stocks to suggest which to sell\n",
    "    '''\n",
    "    \n",
    "    \n",
    "    text = \"What's ticker you want to sell?\"\n",
    "    msg = bot.send_message(message.chat.id, text)\n",
    "    bot.register_next_step_handler(msg, delete_ticker)\n",
    "    \n",
    "def delete_ticker(message):\n",
    "    delete_stock_args.append(message.text)\n",
    "    amount = 0\n",
    "    '''\n",
    "    Query to get amount of stocks by ticker form database\n",
    "    '''\n",
    "    text = 'How many stocks you want to sell?\\nRight now you have ' + str(amount)\n",
    "    msg = bot.send_message(message.chat.id, text)\n",
    "    bot.register_next_step_handler(msg, delete_amount)\n",
    "    \n",
    "def delete_amount(message):\n",
    "    '''\n",
    "    Add try catch if input isnt int \n",
    "    '''\n",
    "    \n",
    "    delete_stock_args.append(int(message.text))\n",
    "    \n",
    "    bot.send_message(message.chat.id, f'Okay, I sold {delete_stock_args[0]}\\nIn amount of {delete_stock_args[1]}')\n",
    "\n",
    "\n",
    "\n",
    "@bot.message_handler(commands=['list'])\n",
    "def command_list(message):\n",
    "    stocks_list = []\n",
    "    '''\n",
    "    Get list of tickers with current prices by API and database\n",
    "    '''\n",
    "    \n",
    "    text = '**Your stocks list**'\n",
    "    for stock in stocks_list:\n",
    "        price = stocks.get_current_price(stock)\n",
    "        text += f'\\n{stock} {price}' \n",
    "    \n",
    "    bot.send_message(message.chat.id, text, parse_mode='Markdown')\n",
    "    \n",
    "@bot.message_handler(commands=['set_percent'])\n",
    "def command_set_percent(message):\n",
    "    '''\n",
    "    Get users percent to notify him\n",
    "    '''\n",
    "    text = \"From what's percent of stock growth you want to be notified? Enter a number.\"\n",
    "    msg = bot.send_message(message.chat.id, text)\n",
    "    \n",
    "    bot.register_next_step_handler(msg, set_percent_percent)\n",
    "\n",
    "def set_percent_percent(message):\n",
    "    '''\n",
    "    Query to nisert percent to user_id (table user_percent)\n",
    "    '''\n",
    "    text = f'Your {message.text}% percent notifications is set'\n",
    "    bot.send_message(message.chat.id, text)\n",
    "    \n",
    "@bot.message_handler(commands=['chatid'])\n",
    "def command_chatid(message):\n",
    "    bot.send_message(message.chat.id, message.chat.id)\n",
    "    \n",
    "plot_args = []\n",
    "@bot.message_handler(commands=['plot'])\n",
    "def command_plot(message):\n",
    "    text = 'Enter a ticker for a plot'\n",
    "    msg = bot.send_message(message.chat.id, message.chat.id)\n",
    "    bot.register_next_step_handler(msg, plot_adding_ticker)\n",
    "    \n",
    "def plot_adding_ticker(message):\n",
    "    text = 'Enter an interval for a plot.\\nE.g. 1 week, 7 day, 1 year, 1 month'\n",
    "    plot_args.append(message.text)\n",
    "    msg = bot.send_message(message.chat.id, text)\n",
    "    bot.register_next_step_handler(msg, plot_adding_interval)\n",
    "    \n",
    "def plot_adding_interval(message):\n",
    "    plot_args.append(message.text)\n",
    "    bot.send_chat_action(message.chat.id, 'upload_photo')\n",
    "    \n",
    "    bot.send_message(message.chat.id,f'Plot ticker: {plot_args[0]} with interval {plot_args[1]}')\n",
    "    plot = plot_stock(plot_args[0], plot_args[1])\n",
    "    bot.send_photo(message.chat.id, plot)\n",
    "    \n",
    "from threading import Thread\n",
    "import schedule, time\n",
    "    \n",
    "bot.polling(True)    "
   ]
  },
  {
   "cell_type": "markdown",
   "id": "d4322f47",
   "metadata": {},
   "source": [
    "## Stocks.py "
   ]
  },
  {
   "cell_type": "code",
   "execution_count": 63,
   "id": "5db80eac",
   "metadata": {},
   "outputs": [],
   "source": [
    "import uuid"
   ]
  },
  {
   "cell_type": "code",
   "execution_count": 235,
   "id": "642d0423",
   "metadata": {},
   "outputs": [],
   "source": [
    "import yfinance as yf\n",
    "import numpy as np\n",
    "import matplotlib.pyplot as plt\n",
    "import matplotlib.dates as mpl_dates\n",
    "from mpl_finance import candlestick_ochl\n",
    "import mpl_finance as mpf\n",
    "def get_current_price(ticker) -> float:\n",
    "    tickerData = yf.Ticker(ticker)\n",
    "    return np.round(tickerData.history(history='7d', history_input='2m').iloc[0].Close, 2)\n",
    "\n",
    "def found_ticker(ticker):\n",
    "    try: \n",
    "        yf.Ticker(ticker)\n",
    "        return True\n",
    "    except:\n",
    "        return False\n",
    "    \n",
    "\n",
    "import finplot as fplt \n",
    "    \n",
    "def save():\n",
    "    fplt.screenshot(open(filename, 'wb'))\n",
    "    \n",
    "from io import BytesIO\n",
    "def plot_stock(history_input, ticker):\n",
    "    tickerData = yf.Ticker(ticker)\n",
    "    history_inputs = ['week', 'day', 'month', 'year']\n",
    "    for inter in history_inputs:\n",
    "        if inter in history_input:\n",
    "            history_input_args = history_input.split()\n",
    "            history = ''\n",
    "            for arg in history_input_args:\n",
    "                try:\n",
    "                    int(arg)\n",
    "                    history += arg\n",
    "                except:\n",
    "                    history += arg[0]\n",
    "            plt.style.use('ggplot')\n",
    "            tickerDf = tickerData.history(period=history, interval='5m')\n",
    "            tickerDf = tickerDf.rename(columns={'index':'Datetime', 'Date':'Datetime'})\n",
    "            import uuid\n",
    "            filename = uuid.uuid1().hex + '.png'\n",
    "            print(f'Filename: {filename}')\n",
    "            '''\n",
    "                FIX SMTH HERE \n",
    "                IDK HOW IT WORKS \n",
    "                BUT I NEED TO LET THIS WORK SOMEHOW\n",
    "            \n",
    "            '''\n",
    "            \n",
    "            \n",
    "            fplt.candlestick_ochl(tickerDf[['Open', 'Close', 'High', 'Low']])\n",
    "            fplt.timer_callback(save, seconds=0.5, single_shot=True)\n",
    "            fplt.show()\n",
    "            fplt.close()\n",
    "            import os\n",
    "            if filename in os.listdir():\n",
    "                print('File saved')\n",
    "                return filename\n",
    "            else:\n",
    "                print('Error: File not saved')\n",
    "            "
   ]
  },
  {
   "cell_type": "code",
   "execution_count": 234,
   "id": "00226614",
   "metadata": {},
   "outputs": [
    {
     "name": "stdout",
     "output_type": "stream",
     "text": [
      "Filename: a9d37c68c9fc11eb92ab3024a99360be.png\n",
      "Error: File not saved\n"
     ]
    }
   ],
   "source": [
    "plot = plot_stock('10 day', 'FB')"
   ]
  },
  {
   "cell_type": "code",
   "execution_count": 178,
   "id": "bd311c2d",
   "metadata": {},
   "outputs": [
    {
     "data": {
      "text/plain": [
       "'632d5b65c9fa11ebaff43024a99360be.png'"
      ]
     },
     "execution_count": 178,
     "metadata": {},
     "output_type": "execute_result"
    }
   ],
   "source": [
    "plot"
   ]
  },
  {
   "cell_type": "code",
   "execution_count": 211,
   "id": "250db77b",
   "metadata": {},
   "outputs": [],
   "source": [
    "history = '7d'\n",
    "ticker = 'FB'"
   ]
  },
  {
   "cell_type": "code",
   "execution_count": 212,
   "id": "17dce771",
   "metadata": {},
   "outputs": [],
   "source": [
    "tickerData = yf.Ticker(ticker)\n",
    "plt.style.use('ggplot')\n",
    "tickerDf = tickerData.history(period=history, interval='1h')\n",
    "tickerDf = tickerDf.rename(columns={'index':'Datetime', 'Date':'Datetime'})\n",
    "import uuid\n"
   ]
  },
  {
   "cell_type": "code",
   "execution_count": 213,
   "id": "903d3010",
   "metadata": {},
   "outputs": [
    {
     "data": {
      "text/plain": [
       "<finplot.CandlestickItem at 0x1fa8b05db80>"
      ]
     },
     "execution_count": 213,
     "metadata": {},
     "output_type": "execute_result"
    }
   ],
   "source": [
    "filename = uuid.uuid1().hex + '.png'\n",
    "fplt.candlestick_ochl(tickerDf[['Open', 'Close', 'High', 'Low']])\n"
   ]
  },
  {
   "cell_type": "code",
   "execution_count": 223,
   "id": "e6bd146e",
   "metadata": {},
   "outputs": [],
   "source": [
    "fplt.show()\n",
    "fplt.close()"
   ]
  },
  {
   "cell_type": "code",
   "execution_count": 220,
   "id": "0f621f8f",
   "metadata": {},
   "outputs": [],
   "source": [
    "def save():\n",
    "    fplt.screenshot(open(filename, 'wb'))"
   ]
  },
  {
   "cell_type": "code",
   "execution_count": 221,
   "id": "7fb0606f",
   "metadata": {},
   "outputs": [],
   "source": [
    "fplt.timer_callback(save, seconds=0.5, single_shot=True)"
   ]
  },
  {
   "cell_type": "code",
   "execution_count": 217,
   "id": "35908b42",
   "metadata": {},
   "outputs": [
    {
     "data": {
      "text/plain": [
       "'5228763ac9fb11ebb37a3024a99360be.png'"
      ]
     },
     "execution_count": 217,
     "metadata": {},
     "output_type": "execute_result"
    }
   ],
   "source": [
    "filename"
   ]
  },
  {
   "cell_type": "markdown",
   "id": "e0997d4d",
   "metadata": {},
   "source": [
    "## Database.py \n",
    "\n",
    "*Add stocks* \\\n",
    "*Delete stocks* \\\n",
    "*List stocks with current price & price for last 1 week, 1 day, 1 month* \\\n",
    "*Predict stocks price for 1 week*"
   ]
  }
 ],
 "metadata": {
  "kernelspec": {
   "display_name": "Python 3",
   "language": "python",
   "name": "python3"
  },
  "language_info": {
   "codemirror_mode": {
    "name": "ipython",
    "version": 3
   },
   "file_extension": ".py",
   "mimetype": "text/x-python",
   "name": "python",
   "nbconvert_exporter": "python",
   "pygments_lexer": "ipython3",
   "version": "3.9.5"
  }
 },
 "nbformat": 4,
 "nbformat_minor": 5
}
