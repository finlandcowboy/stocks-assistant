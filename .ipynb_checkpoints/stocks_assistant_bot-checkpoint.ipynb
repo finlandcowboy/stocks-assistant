{
 "cells": [
  {
   "cell_type": "markdown",
   "id": "127d71de",
   "metadata": {},
   "source": [
    "# Pipeline \n",
    "\n",
    "Telegram bot (bot.py) \\\n",
    "Stocks API (stock.py) \\\n",
    "DataBase (database.py) \\\n",
    "\n",
    "Maybe to add: \\\n",
    "Price prediciton (model.py)"
   ]
  },
  {
   "cell_type": "markdown",
   "id": "34038ce8",
   "metadata": {},
   "source": [
    "## Telegram bot (bot.py)"
   ]
  },
  {
   "cell_type": "markdown",
   "id": "9a92574e",
   "metadata": {},
   "source": [
    "#### Commands\n",
    "<li> /add </li>\n",
    "Almost done. Need to add sync with database\n",
    "<li> /delete </li>\n",
    "Also sync with databse \n",
    "<li> /list </li>\n",
    "Databse required\n",
    "<li> /predict </li>\n",
    "<li> /set_percent </li>"
   ]
  },
  {
   "cell_type": "code",
   "execution_count": 1,
   "id": "10c320a8",
   "metadata": {
    "scrolled": true
   },
   "outputs": [
    {
     "ename": "ModuleNotFoundError",
     "evalue": "No module named 'schedule'",
     "output_type": "error",
     "traceback": [
      "\u001b[1;31m---------------------------------------------------------------------------\u001b[0m",
      "\u001b[1;31mModuleNotFoundError\u001b[0m                       Traceback (most recent call last)",
      "\u001b[1;32m<ipython-input-1-32fe7ba49b74>\u001b[0m in \u001b[0;36m<module>\u001b[1;34m\u001b[0m\n\u001b[0;32m    134\u001b[0m \u001b[1;33m\u001b[0m\u001b[0m\n\u001b[0;32m    135\u001b[0m \u001b[1;32mfrom\u001b[0m \u001b[0mthreading\u001b[0m \u001b[1;32mimport\u001b[0m \u001b[0mThread\u001b[0m\u001b[1;33m\u001b[0m\u001b[1;33m\u001b[0m\u001b[0m\n\u001b[1;32m--> 136\u001b[1;33m \u001b[1;32mimport\u001b[0m \u001b[0mschedule\u001b[0m\u001b[1;33m,\u001b[0m \u001b[0mtime\u001b[0m\u001b[1;33m\u001b[0m\u001b[1;33m\u001b[0m\u001b[0m\n\u001b[0m\u001b[0;32m    137\u001b[0m \u001b[1;33m\u001b[0m\u001b[0m\n\u001b[0;32m    138\u001b[0m \u001b[0mbot\u001b[0m\u001b[1;33m.\u001b[0m\u001b[0mpolling\u001b[0m\u001b[1;33m(\u001b[0m\u001b[1;32mTrue\u001b[0m\u001b[1;33m)\u001b[0m\u001b[1;33m\u001b[0m\u001b[1;33m\u001b[0m\u001b[0m\n",
      "\u001b[1;31mModuleNotFoundError\u001b[0m: No module named 'schedule'"
     ]
    }
   ],
   "source": [
    "import telebot\n",
    "\n",
    "token = '1686246223:AAFpGIs77TFZ89QErNnq65yTqzN7ULORvNQ'\n",
    "\n",
    "bot = telebot.TeleBot(token)\n",
    "\n",
    "@bot.message_handler(commands=['start'])\n",
    "def greeting_command(message):\n",
    "    text = f'''Hello {message.from_user.username}!\n",
    "I\\'m your stocks assistant bot.\n",
    "I can help you to manage your stocks portfolio.\n",
    "\n",
    "Here\\'s something of what I can do.\n",
    "Show you realtime prices of your stocksW\n",
    "Predict the price of your stocks for a week\n",
    "Notify you when you might want to sell stocks\n",
    "\n",
    "For more help and commands /help\n",
    "\n",
    "Created by @finlandcowboy'''\n",
    "    \n",
    "    bot.send_message(message.chat.id, text)\n",
    "\n",
    "@bot.message_handler(commands=['help'])\n",
    "def help_command(message):\n",
    "    text = '''**Commands**\n",
    "/add - Add stock\n",
    "/delete - Delete Stock (if you sell it or smth)\n",
    "/list - List your stocks\n",
    "/predict - Predict your stock value for desirable amount of time\n",
    "/set_percent - Set percent for notifying you about growth\n",
    "    '''\n",
    "    bot.send_message(message.chat.id, text, parse_mode='Markdown')\n",
    "\n",
    "    \n",
    "adding_stock_args = []\n",
    "@bot.message_handler(commands=['add'])\n",
    "def command_add(message):\n",
    "    text = 'Enter a **ticker** (not a company name)'\n",
    "    msg = bot.send_message(message.chat.id, text)\n",
    "    bot.register_next_step_handler(msg, adding_ticker, parse_mode='Markdown')\n",
    "    \n",
    "def adding_ticker(message):\n",
    "    adding_stock_args.append(message.text)\n",
    "    text = 'Enter a price in **USD $$**'\n",
    "    msg = bot.send_message(message.chat.id, text)\n",
    "    bot.register_next_step_handler(msg, adding_price, parse_mode='Markdown')\n",
    "    \n",
    "def adding_price(message):\n",
    "    adding_stock_args.append(int(message.text))\n",
    "    text = 'Enter **amount** of stock you bought'\n",
    "    msg = bot.send_message(message.chat.id, text)\n",
    "    bot.register_next_step_handler(msg, adding_amount, parse_mode='Markdown')\n",
    "\n",
    "    \n",
    "def adding_amount(message):\n",
    "    adding_stock_args.append(int(message.text))\n",
    "    print(adding_stock_args)\n",
    "    text = f'Alright, added a {adding_stock_args[0]} in amount of {adding_stock_args[2]} and sum price: {round(float(adding_stock_args[2]) * float(adding_stock_args[1]),2)}'\n",
    "    bot.send_message(message.chat.id, text)\n",
    "    \n",
    "    '''\n",
    "    ADD A STOCK INFO TO DATABASE HERE\n",
    "    '''\n",
    "delete_stock_args = []    \n",
    "@bot.message_handler(commands=['delete'])\n",
    "def command_delete(message):\n",
    "    \n",
    "    '''\n",
    "    Add ticker try catch if ticker is not in list \n",
    "    \n",
    "    \n",
    "    except:\n",
    "        print list of having stocks to suggest which to sell\n",
    "    '''\n",
    "    \n",
    "    \n",
    "    text = \"What's ticker you want to sell?\"\n",
    "    msg = bot.send_message(message.chat.id, text)\n",
    "    bot.register_next_step_handler(msg, delete_ticker)\n",
    "    \n",
    "def delete_ticker(message):\n",
    "    delete_stock_args.append(message.text)\n",
    "    amount = 0\n",
    "    '''\n",
    "    Query to get amount of stocks by ticker form database\n",
    "    '''\n",
    "    text = 'How many stocks you want to sell?\\nRight now you have ' + str(amount)\n",
    "    msg = bot.send_message(message.chat.id, text)\n",
    "    bot.register_next_step_handler(msg, delete_amount)\n",
    "    \n",
    "def delete_amount(message):\n",
    "    '''\n",
    "    Add try catch if input isnt int \n",
    "    '''\n",
    "    \n",
    "    delete_stock_args.append(int(message.text))\n",
    "    \n",
    "    bot.send_message(message.chat.id, f'Okay, I sold {delete_stock_args[0]}\\nIn amount of {delete_stock_args[1]}')\n",
    "\n",
    "\n",
    "\n",
    "@bot.message_handler(commands=['list'])\n",
    "def command_list(message):\n",
    "    stocks_list = []\n",
    "    '''\n",
    "    Get list of tickers with current prices by API and database\n",
    "    '''\n",
    "    \n",
    "    text = '**Your stocks list**'\n",
    "    for stock in stocks_list:\n",
    "        price = stocks.get_current_price(stock)\n",
    "        text += f'\\n{stock} {price}' \n",
    "    \n",
    "    bot.send_message(message.chat.id, text, parse_mode='Markdown')\n",
    "    \n",
    "@bot.message_handler(commands=['set_percent'])\n",
    "def command_set_percent(message):\n",
    "    '''\n",
    "    Get users percent to notify him\n",
    "    '''\n",
    "    text = \"From what's percent of stock growth you want to be notified? Enter a number.\"\n",
    "    msg = bot.send_message(message.chat.id, text)\n",
    "    \n",
    "    bot.register_next_step_handler(msg, set_percent_percent)\n",
    "\n",
    "def set_percent_percent(message):\n",
    "    '''\n",
    "    Query to nisert percent to user_id (table user_percent)\n",
    "    '''\n",
    "    text = f'Your {message.text}% percent notifications is set'\n",
    "    bot.send_message(message.chat.id, text)\n",
    "\n",
    "    \n",
    "from threading import Thread\n",
    "import schedule, time\n",
    "    \n",
    "bot.polling(True)    "
   ]
  },
  {
   "cell_type": "markdown",
   "id": "d4322f47",
   "metadata": {},
   "source": [
    "## Stocks.py "
   ]
  },
  {
   "cell_type": "code",
   "execution_count": null,
   "id": "fd6607cd",
   "metadata": {},
   "outputs": [],
   "source": [
    "!pip install mpl_finance"
   ]
  },
  {
   "cell_type": "code",
   "execution_count": null,
   "id": "3b68b031",
   "metadata": {},
   "outputs": [],
   "source": [
    "!pip install finplot"
   ]
  },
  {
   "cell_type": "code",
   "execution_count": 2,
   "id": "642d0423",
   "metadata": {},
   "outputs": [
    {
     "name": "stderr",
     "output_type": "stream",
     "text": [
      "c:\\users\\szhashkov\\appdata\\local\\programs\\python\\python39\\lib\\site-packages\\mpl_finance.py:16: DeprecationWarning: \n",
      "\n",
      "  =================================================================\n",
      "\n",
      "   WARNING: `mpl_finance` is deprecated:\n",
      "\n",
      "    Please use `mplfinance` instead (no hyphen, no underscore).\n",
      "\n",
      "    To install: `pip install --upgrade mplfinance` \n",
      "\n",
      "   For more information, see: https://pypi.org/project/mplfinance/\n",
      "\n",
      "  =================================================================\n",
      "\n",
      "  __warnings.warn('\\n\\n  ================================================================='+\n"
     ]
    }
   ],
   "source": [
    "import yfinance as yf\n",
    "import numpy as np\n",
    "import matplotlib.pyplot as plt\n",
    "import matplotlib.dates as mpl_dates\n",
    "from mpl_finance import candlestick_ochl\n",
    "import mpl_finance as mpf\n",
    "def get_current_price(ticker) -> float:\n",
    "    tickerData = yf.Ticker(ticker)\n",
    "    return np.round(tickerData.history(history='7d', history_input='2m').iloc[0].Close, 2)\n",
    "\n",
    "def found_ticker(ticker):\n",
    "    try: \n",
    "        yf.Ticker(ticker)\n",
    "        return True\n",
    "    except:\n",
    "        return False\n",
    "    \n",
    "\n",
    "import finplot as fplt \n",
    "    \n",
    "def plot_stock(history_input, ticker):\n",
    "    tickerData = yf.Ticker(ticker)\n",
    "    history_inputs = ['week', 'day', 'month', 'year']\n",
    "    for inter in history_inputs:\n",
    "        if inter in history_input:\n",
    "            history_input_args = history_input.split()\n",
    "            history = ''\n",
    "            for arg in history_input_args:\n",
    "                try:\n",
    "                    int(arg)\n",
    "                    history += arg\n",
    "                except:\n",
    "                    history += arg[0]\n",
    "            plt.style.use('ggplot')\n",
    "            tickerDf = tickerData.history(period=history, interval='1h')\n",
    "            tickerDf.reset_index(inplace=True)\n",
    "            tickerDf = tickerDf.rename(columns={'index':'Datetime', 'Date':'Datetime'})\n",
    "            tickerDf.drop(columns=['Dividends', 'Stock Splits', 'Volume'], inplace=True)\n",
    "            \n",
    "            tickerDf['Datetime'] = tickerDf['Datetime'].apply(mpl_dates.date2num)\n",
    "            tickerDf = tickerDf.astype(float)\n",
    "            \n",
    "            fplt.candlestick_ochl(tickerDf)\n",
    "            fplt.show()\n",
    "            \n",
    "            '''\n",
    "            candlestick_ochl(ax,tickerDf.values, width=0.6, colorup = 'green', colordown='red', alpha=0.8)\n",
    "            \n",
    "            plt.xlabel('Date')\n",
    "            plt.ylabel('Price')\n",
    "            date = 0\n",
    "            fig.suptitle(f'График цены {ticker} {date}')\n",
    "            date_format = mpl_dates.DateFormatter('%d.%m.%Y')\n",
    "            ax.xaxis.set_major_formatter(date_format)\n",
    "            fig.autofmt_xdate()\n",
    "            fig.tight_layout()\n",
    "            plt.show()\n",
    "            '''"
   ]
  },
  {
   "cell_type": "code",
   "execution_count": null,
   "id": "7c1e1bc5",
   "metadata": {},
   "outputs": [],
   "source": [
    "tickerData.history(period='7d')"
   ]
  },
  {
   "cell_type": "code",
   "execution_count": null,
   "id": "a5cce132",
   "metadata": {},
   "outputs": [],
   "source": [
    "import "
   ]
  },
  {
   "cell_type": "code",
   "execution_count": null,
   "id": "3a879c12",
   "metadata": {
    "scrolled": true
   },
   "outputs": [],
   "source": [
    "plot_stock('7 day', 'FB')"
   ]
  },
  {
   "cell_type": "code",
   "execution_count": 5,
   "id": "b0da1d8c",
   "metadata": {},
   "outputs": [],
   "source": [
    "import finplot as fplt\n",
    "import yfinance as yf\n",
    "df = yf.Ticker('AAPL').history(period='7d', interval='1h')\n"
   ]
  },
  {
   "cell_type": "code",
   "execution_count": 9,
   "id": "005c6010",
   "metadata": {},
   "outputs": [],
   "source": [
    "fplt.candlestick_ochl(df[['Open', 'Close', 'High', 'Low']])\n",
    "fplt.show()"
   ]
  },
  {
   "cell_type": "code",
   "execution_count": 21,
   "id": "d55b3311",
   "metadata": {},
   "outputs": [
    {
     "name": "stdout",
     "output_type": "stream",
     "text": [
      "[*********************100%***********************]  1 of 1 completed\n",
      "Screenshot error: <class 'IndexError'> list index out of range\n"
     ]
    },
    {
     "data": {
      "text/plain": [
       "False"
      ]
     },
     "execution_count": 21,
     "metadata": {},
     "output_type": "execute_result"
    }
   ],
   "source": [
    "import finplot as fplt\n",
    "import yfinance\n",
    "df = yfinance.download('AAPL')\n",
    "fplt.candlestick_ochl(df[['Open', 'Close', 'High', 'Low']])\n",
    "fplt.show()\n",
    "fplt.screenshot(open('1.png','w'), fmt='png')"
   ]
  },
  {
   "cell_type": "code",
   "execution_count": null,
   "id": "6a797615",
   "metadata": {},
   "outputs": [],
   "source": [
    "fplt."
   ]
  },
  {
   "cell_type": "markdown",
   "id": "e0997d4d",
   "metadata": {},
   "source": [
    "## Database.py \n",
    "\n",
    "*Add stocks* \\\n",
    "*Delete stocks* \\\n",
    "*List stocks with current price & price for last 1 week, 1 day, 1 month* \\\n",
    "*Predict stocks price for 1 week*"
   ]
  }
 ],
 "metadata": {
  "kernelspec": {
   "display_name": "Python 3",
   "language": "python",
   "name": "python3"
  },
  "language_info": {
   "codemirror_mode": {
    "name": "ipython",
    "version": 3
   },
   "file_extension": ".py",
   "mimetype": "text/x-python",
   "name": "python",
   "nbconvert_exporter": "python",
   "pygments_lexer": "ipython3",
   "version": "3.9.5"
  }
 },
 "nbformat": 4,
 "nbformat_minor": 5
}
